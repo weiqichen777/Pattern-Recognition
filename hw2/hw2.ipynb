{
 "cells": [
  {
   "cell_type": "markdown",
   "source": [
    "## HW2: Linear Discriminant Analysis\n",
    "In hw2, you need to implement [Fisher’s linear discriminant](https://towardsdatascience.com/fishers-linear-discriminant-intuitively-explained-52a1ba79e1bb) by using only numpy, then train your implemented model by the provided dataset and test the performance with testing data\n",
    "\n",
    "Please note that only **NUMPY** can be used to implement your model, you will get **zero point** by simply calling `sklearn.discriminant_analysis.LinearDiscriminantAnalysis` "
   ],
   "metadata": {}
  },
  {
   "cell_type": "markdown",
   "source": [
    "## Load data"
   ],
   "metadata": {}
  },
  {
   "cell_type": "code",
   "execution_count": 15,
   "source": [
    "import pandas as pd\n",
    "import numpy as np"
   ],
   "outputs": [],
   "metadata": {}
  },
  {
   "cell_type": "code",
   "execution_count": 16,
   "source": [
    "x_train = pd.read_csv(\"x_train.csv\").values\n",
    "y_train = pd.read_csv(\"y_train.csv\").values[:,0]\n",
    "x_test = pd.read_csv(\"x_test.csv\").values\n",
    "y_test = pd.read_csv(\"y_test.csv\").values[:,0]"
   ],
   "outputs": [],
   "metadata": {}
  },
  {
   "cell_type": "markdown",
   "source": [
    "## 1. Compute the mean vectors mi, (i=1,2) of each 2 classes"
   ],
   "metadata": {}
  },
  {
   "cell_type": "code",
   "execution_count": 17,
   "source": [
    "## Your code HERE\n",
    "c = 2  # The number of class\n",
    "x_train_1 = x_train[np.where(y_train == 0)].T\n",
    "x_train_2 = x_train[np.where(y_train == 1)].T\n",
    "m1 = np.mean(x_train_1, axis=1).reshape(-1, 1)\n",
    "m2 = np.mean(x_train_2, axis=1).reshape(-1, 1)"
   ],
   "outputs": [],
   "metadata": {}
  },
  {
   "cell_type": "code",
   "execution_count": 18,
   "source": [
    "print(f\"mean vector of class 1:\\n {m1}\")\n",
    "print(f\"mean vector of class 2:\\n {m2}\")"
   ],
   "outputs": [
    {
     "output_type": "stream",
     "name": "stdout",
     "text": [
      "mean vector of class 1:\n",
      " [[2.47107265]\n",
      " [1.97913899]]\n",
      "mean vector of class 2:\n",
      " [[1.82380675]\n",
      " [3.03051876]]\n"
     ]
    }
   ],
   "metadata": {}
  },
  {
   "cell_type": "markdown",
   "source": [
    "## 2. Compute the Within-class scatter matrix SW"
   ],
   "metadata": {}
  },
  {
   "cell_type": "code",
   "execution_count": 19,
   "source": [
    "## Your code HERE\n",
    "sw = np.dot((x_train_1 - m1), (x_train_1 - m1).T) +\\\n",
    "     np.dot((x_train_2 - m2), (x_train_2 - m2).T)"
   ],
   "outputs": [],
   "metadata": {}
  },
  {
   "cell_type": "code",
   "execution_count": 20,
   "source": [
    "assert sw.shape == (2,2)\n",
    "print(f\"Within-class scatter matrix SW:\\n {sw}\")"
   ],
   "outputs": [
    {
     "output_type": "stream",
     "name": "stdout",
     "text": [
      "Within-class scatter matrix SW:\n",
      " [[140.40036447  -5.30881553]\n",
      " [ -5.30881553 138.14297637]]\n"
     ]
    }
   ],
   "metadata": {}
  },
  {
   "cell_type": "markdown",
   "source": [
    "## 3.  Compute the Between-class scatter matrix SB"
   ],
   "metadata": {}
  },
  {
   "cell_type": "code",
   "execution_count": 21,
   "source": [
    "## Your code HERE\n",
    "sb = np.dot((m2 - m1), (m2 - m1).T)"
   ],
   "outputs": [],
   "metadata": {}
  },
  {
   "cell_type": "code",
   "execution_count": 22,
   "source": [
    "assert sb.shape == (2,2)\n",
    "print(f\"Between-class scatter matrix SB:\\n {sb}\")"
   ],
   "outputs": [
    {
     "output_type": "stream",
     "name": "stdout",
     "text": [
      "Between-class scatter matrix SB:\n",
      " [[ 0.41895314 -0.68052227]\n",
      " [-0.68052227  1.10539942]]\n"
     ]
    }
   ],
   "metadata": {}
  },
  {
   "cell_type": "markdown",
   "source": [
    "## 4. Compute the Fisher’s linear discriminant"
   ],
   "metadata": {}
  },
  {
   "cell_type": "code",
   "execution_count": 23,
   "source": [
    "## Your code HERE\n",
    "sw_inv = np.linalg.inv(sw)\n",
    "t1, t2 = np.linalg.eig(np.dot(sw_inv, sb))\n",
    "w = t2[:, np.argmax(t1)].reshape(-1, 1)"
   ],
   "outputs": [],
   "metadata": {}
  },
  {
   "cell_type": "code",
   "execution_count": 24,
   "source": [
    "assert w.shape == (2,1)\n",
    "print(f\"Fisher’s linear discriminant:\\n {w}\")"
   ],
   "outputs": [
    {
     "output_type": "stream",
     "name": "stdout",
     "text": [
      "Fisher’s linear discriminant:\n",
      " [[ 0.50266214]\n",
      " [-0.86448295]]\n"
     ]
    }
   ],
   "metadata": {}
  },
  {
   "cell_type": "markdown",
   "source": [
    "## 5. Project the test data by linear discriminant and get the class prediction by nearest-neighbor rule.  Calculate the accuracy score \n",
    "you can use `accuracy_score` function from `sklearn.metric.accuracy_score`"
   ],
   "metadata": {}
  },
  {
   "cell_type": "code",
   "execution_count": 25,
   "source": [
    "from sklearn.metrics import accuracy_score\n",
    "\n",
    "x_train_w = np.dot(x_train, w)\n",
    "x_test_w = np.dot(x_test, w)\n",
    "\n",
    "y_pred = np.zeros((x_test.shape[0], 1))\n",
    "for i in range(x_test.shape[0]):\n",
    "    y_pred[i, 0] = y_train[np.argmin(np.absolute(x_test_w[i] *\n",
    "                                                np.ones(x_train_w.shape) -\n",
    "                                                x_train_w))]\n",
    "\n",
    "acc = accuracy_score(y_test, y_pred)\n",
    "acc = np.around(acc, decimals = 1)"
   ],
   "outputs": [],
   "metadata": {}
  },
  {
   "cell_type": "code",
   "execution_count": 26,
   "source": [
    "print(f\"Accuracy of test-set: {acc}\")"
   ],
   "outputs": [
    {
     "output_type": "stream",
     "name": "stdout",
     "text": [
      "Accuracy of test-set: 0.9\n"
     ]
    }
   ],
   "metadata": {}
  },
  {
   "cell_type": "markdown",
   "source": [
    "## 6. Plot the 1) best projection line on the training data and show the slope and intercept on the title (you can choose any value of intercept for better visualization) 2) colorize the data with each class 3) project all data points on your projection line. Your result should look like [this image](https://i.imgur.com/tubMQpw.jpg)"
   ],
   "metadata": {}
  },
  {
   "cell_type": "code",
   "execution_count": 27,
   "source": [
    "import matplotlib.pyplot as plt\n",
    "\n",
    "x_test_1 = x_test[np.where(y_test == 0)].T\n",
    "x_test_2 = x_test[np.where(y_test == 1)].T\n",
    "intercept = 3\n",
    "\n",
    "plt.figure()\n",
    "plt.plot(x_train_1[0, :], x_train_1[1, :], 'r.', label='class 1')\n",
    "plt.plot(x_train_2[0, :], x_train_2[1, :], 'b.', label='class 2')\n",
    "plt.plot(x_test_1[0, :], x_test_1[1, :], 'r.')\n",
    "plt.plot(x_test_2[0, :], x_test_2[1, :], 'b.')\n",
    "plt.plot([-5 * w[0], 5 * w[0]],\n",
    "         [-5 * w[1] + intercept, 5 * w[1] + intercept], 'k',\n",
    "         label='projection line')\n",
    "slope = w[1] / w[0]\n",
    "plt.title(f'Projection Line: w = {slope.item(0)}, b = {intercept}')\n",
    "res = w.reshape(2,)\n",
    "\n",
    "for pt in x_train_1.T:\n",
    "    pt[1] = pt[1] - intercept\n",
    "    prj = np.multiply(res, np.dot(res, pt))\n",
    "    plt.plot([prj[0], pt[0]], [prj[1] + intercept, pt[1] + intercept],\n",
    "             'r.-', alpha=0.1)\n",
    "\n",
    "for pt in x_train_2.T:\n",
    "    pt[1] = pt[1] - intercept\n",
    "    prj = np.multiply(res, np.dot(res, pt))\n",
    "    plt.plot([prj[0], pt[0]], [prj[1] + intercept, pt[1] + intercept],\n",
    "             'b.-', alpha=0.1)\n",
    "\n",
    "for pt in x_test_1.T:\n",
    "    pt[1] = pt[1] - intercept\n",
    "    prj = np.multiply(res, np.dot(res, pt))\n",
    "    plt.plot([prj[0], pt[0]], [prj[1] + intercept, pt[1] + intercept],\n",
    "             'r.-', alpha=0.1)\n",
    "             \n",
    "for pt in x_test_2.T:\n",
    "    pt[1] = pt[1] - intercept\n",
    "    prj = np.multiply(res, np.dot(res, pt))\n",
    "    plt.plot([prj[0], pt[0]], [prj[1] + intercept, pt[1] + intercept],\n",
    "             'b.-', alpha=0.1)\n",
    "\n",
    "\n",
    "plt.legend(bbox_to_anchor=(1.05, 1.0), loc='upper left')\n",
    "plt.show()"
   ],
   "outputs": [
    {
     "output_type": "display_data",
     "data": {
      "image/png": "[encoded data removed]",
      "text/plain": [
       "<Figure size 432x288 with 1 Axes>"
      ]
     },
     "metadata": {
      "needs_background": "light"
     }
    }
   ],
   "metadata": {}
  }
 ],
 "metadata": {
  "kernelspec": {
   "name": "python3",
   "display_name": "Python 3.8.10 64-bit"
  },
  "language_info": {
   "codemirror_mode": {
    "name": "ipython",
    "version": 3
   },
   "file_extension": ".py",
   "mimetype": "text/x-python",
   "name": "python",
   "nbconvert_exporter": "python",
   "pygments_lexer": "ipython3",
   "version": "3.8.10"
  },
  "interpreter": {
   "hash": "916dbcbb3f70747c44a77c7bcd40155683ae19c65e1c03b4aa3499c5328201f1"
  }
 },
 "nbformat": 4,
 "nbformat_minor": 4
}